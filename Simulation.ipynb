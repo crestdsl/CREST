{
 "cells": [
  {
   "cell_type": "code",
   "execution_count": null,
   "metadata": {
    "hide_input": true,
    "init_cell": true
   },
   "outputs": [],
   "source": [
    "# this is a little trick to make sure the the notebook takes up most of the screen:\n",
    "from IPython.display import HTML\n",
    "display(HTML(\"<style>.container { width:90% !important; }</style>\"))\n",
    "\n",
    "# Recommendation to leave the logging config like this, otherwise you'll be flooded with unnecessary info\n",
    "import logging\n",
    "logging.basicConfig(level=logging.WARNING, format='%(levelname)s:%(message)s')  "
   ]
  },
  {
   "cell_type": "markdown",
   "metadata": {},
   "source": [
    "# README\n",
    "\n",
    "This notebook uses the the models defined in the [Syntax and Semantics introduction](./Syntax-Semantics.ipynb). If you're unfamiliar with CREST we suggest you start there.\n",
    "\n",
    "If you are unfamiliar with Jupyter notebooks, please consult appropriate tutorials and introductions, e.g. [here](https://jupyter.readthedocs.io/en/latest/content-quickstart.html).\n",
    "\n",
    "**This notebook** was designed to execute all cells from top to bottom. You can either iteratively execute each cell or simply execute all at once:  \n",
    "Menu `Cell` -> `Run all`  "
   ]
  },
  {
   "cell_type": "markdown",
   "metadata": {},
   "source": [
    "<p><b><font size=\"3\"> Importing </font></b></p>\n",
    "\n",
    "The following lines do the following:   \n",
    "`%%capture` suppresses the output of the current cell (otheriw.  \n",
    "`%run filename` executes a notebook in the current context. We use it to import things from other notebooks.\n",
    "\n",
    "*Note, that this is a very dumb version of importing. It executes everything (i.e. it's slow) and also localises all variables (i.e. susceptible to variable shadowing). We're waiting for smarter functionality (hopefully in the next IPython version).*"
   ]
  },
  {
   "cell_type": "code",
   "execution_count": null,
   "metadata": {},
   "outputs": [],
   "source": [
    "%%capture\n",
    "%run Syntax-Semantics.ipynb"
   ]
  },
  {
   "cell_type": "markdown",
   "metadata": {},
   "source": [
    "The simulator is provided in a Python library, so we can import it using the standard Python functionality"
   ]
  },
  {
   "cell_type": "code",
   "execution_count": null,
   "metadata": {},
   "outputs": [],
   "source": [
    "# import the simulator\n",
    "from crestdsl.simulation import Simulator"
   ]
  },
  {
   "cell_type": "markdown",
   "metadata": {},
   "source": [
    "# Using the Simulator\n",
    "A simulator is initialized with a root-entity and a time domain.\n",
    "For convenience we can plot directly from the simulator.\n",
    "\n",
    "The plotting should present the entity in its initial state. It is plotted exactly as if using the `elk` plotter directly, except that it shows the current time, which is set to 0 (check the root-entity's label)\n"
   ]
  },
  {
   "cell_type": "code",
   "execution_count": null,
   "metadata": {
    "code_folding": []
   },
   "outputs": [],
   "source": [
    "gl = GrowLamp()\n",
    "sim = Simulator(gl)\n",
    "sim.plot()"
   ]
  },
  {
   "cell_type": "markdown",
   "metadata": {},
   "source": [
    "## Stabilisation\n",
    "The simulator will execute the system until it is stable. \n",
    "That is, until there is a point where no more transitions can be triggered and all updates/influences/actions have been executed. \n",
    "In our example look specifically at the **output** values, they are now correct (instead of the dummy default values)!!\n",
    "\n",
    "*Note: the value of room_temp_in is 21.999999...  This is a result of the calculation: (71.6-32)*5/9*.  \n",
    "It has to do with Python's floating point calculations. \n",
    "The next version of CREST will use SymPy to perform calculations symbolically and have precise results.*"
   ]
  },
  {
   "cell_type": "code",
   "execution_count": null,
   "metadata": {},
   "outputs": [],
   "source": [
    "sim.stabilise()\n",
    "sim.plot()"
   ]
  },
  {
   "cell_type": "markdown",
   "metadata": {},
   "source": [
    "## Modification of input values\n",
    "\n",
    "When we modify input port values, we see that nothing happens except what we explicitly changed.  "
   ]
  },
  {
   "cell_type": "code",
   "execution_count": null,
   "metadata": {},
   "outputs": [],
   "source": [
    "# modify the growlamp instance's inputs directly, the simulator points to that object and will use it\n",
    "gl.electricity.value = 500\n",
    "gl.switch.value = \"on\"\n",
    "sim.plot()"
   ]
  },
  {
   "cell_type": "markdown",
   "metadata": {},
   "source": [
    "It actually takes a *stabilise* step to propagate the values"
   ]
  },
  {
   "cell_type": "code",
   "execution_count": null,
   "metadata": {
    "scrolled": false
   },
   "outputs": [],
   "source": [
    "sim.stabilise()\n",
    "sim.plot()"
   ]
  },
  {
   "cell_type": "markdown",
   "metadata": {},
   "source": [
    "## Time advance\n",
    "The *advance(dt)* function can forward time.  \n",
    "Below we advance 500 time steps. The effect is that the time is now (t=500) and that on_time has the value of 500 too!"
   ]
  },
  {
   "cell_type": "code",
   "execution_count": null,
   "metadata": {
    "scrolled": false
   },
   "outputs": [],
   "source": [
    "sim.advance(500)\n",
    "sim.plot()"
   ]
  },
  {
   "cell_type": "markdown",
   "metadata": {},
   "source": [
    "## Next transition time\n",
    "The simulation of time advance is based on the calculation of the next transition time.\n",
    "\n",
    "The simulator can calculate this time by analysing system's updates and influences.  \n",
    "Currently, only a limited set of features is supported in update/influence functions: variable assignments, arithmetics\n",
    "\n",
    "*More features (conditional statements & expressions) are being developped but have to be tested first*\n",
    "\n",
    "The example below states that the error transition will be triggered after 500.5 time steps (i.e. when on_time == 1000.5)"
   ]
  },
  {
   "cell_type": "code",
   "execution_count": null,
   "metadata": {
    "scrolled": false
   },
   "outputs": [],
   "source": [
    "gl = GrowLamp()\n",
    "gl.electricity.value = 500\n",
    "gl.switch.value = \"on\"\n",
    "\n",
    "sim = Simulator(gl)\n",
    "sim.stabilise()\n",
    "sim.next_behaviour_change_time()"
   ]
  },
  {
   "cell_type": "markdown",
   "metadata": {},
   "source": [
    "## Automatic firing of transitions\n",
    "Let's assume we want to advance more than the necessary 1000.5 time steps, what happens then?\n",
    "The semantics prescribe to first advance 1000.5 time steps, then fire all transitions and updates (stabilise the system), then advance the rest."
   ]
  },
  {
   "cell_type": "code",
   "execution_count": null,
   "metadata": {},
   "outputs": [],
   "source": [
    "gl = GrowLamp()\n",
    "gl.electricity.value = 500\n",
    "gl.switch.value = \"on\"\n",
    "\n",
    "sim = Simulator(gl)\n",
    "sim.stabilise()\n",
    "sim.next_behaviour_change_time()\n",
    "\n",
    "\n",
    "sim.advance(1500)  # try to modify the value here to 1000 and see that no transition happens, but if you add a value >= 1000.5 the transition is fired\n",
    "sim.plot()"
   ]
  },
  {
   "cell_type": "markdown",
   "metadata": {},
   "source": [
    "## Different time scales\n",
    "By default the simulator will run in real-time.\n",
    "However, it can be configured to use integers as time unit.\n",
    "Below we have a simulator that produces two different outputs, depending on the time unit chosen.\n",
    "Effectively, the system changes to the *error* state when the *on_time* reaches 1000.5 or more.\n",
    "\n",
    "In **integer** mode the simulator will calculate that a transition happens after **1001** time units, while the **real**-valued simulator will calculate the precise point in time (**1000.5**)\n"
   ]
  },
  {
   "cell_type": "code",
   "execution_count": null,
   "metadata": {},
   "outputs": [],
   "source": [
    "growlamp = GrowLamp()                 # create a growlamp instance and change inputs so it is in state *on* after stabilisation\n",
    "growlamp.electricity.value = 500\n",
    "growlamp.switch.value = \"on\"\n",
    "realSimulator = Simulator(growlamp)\n",
    "realSimulator.stabilise()                 # stabilise the system so it's in good state\n",
    "realSimulator.timeunit = REAL\n",
    "realSimulator.next_behaviour_change_time()  # should say ('to_error', 1000.5)"
   ]
  },
  {
   "cell_type": "markdown",
   "metadata": {},
   "source": [
    "**Now: We will use the simulator but with a different time unit to show that the result is truly different.**"
   ]
  },
  {
   "cell_type": "code",
   "execution_count": null,
   "metadata": {
    "scrolled": true
   },
   "outputs": [],
   "source": [
    "growlamp = GrowLamp()                 # create a growlamp instance and change inputs so it is in state *on* after stabilisation\n",
    "growlamp.electricity.value = 500\n",
    "growlamp.switch.value = \"on\"\n",
    "intSimulator = Simulator(growlamp)\n",
    "intSimulator.stabilise()                 # stabilise the system so it's in good state\n",
    "intSimulator.timeunit = INTEGER\n",
    "intSimulator.next_behaviour_change_time()  # should say ('to_error', 1001)"
   ]
  }
 ],
 "metadata": {
  "kernelspec": {
   "display_name": "Python 3",
   "language": "python",
   "name": "python3"
  },
  "language_info": {
   "codemirror_mode": {
    "name": "ipython",
    "version": 3
   },
   "file_extension": ".py",
   "mimetype": "text/x-python",
   "name": "python",
   "nbconvert_exporter": "python",
   "pygments_lexer": "ipython3",
   "version": "3.6.7"
  },
  "toc": {
   "base_numbering": 1,
   "nav_menu": {},
   "number_sections": true,
   "sideBar": true,
   "skip_h1_title": false,
   "title_cell": "Table of Contents",
   "title_sidebar": "Contents",
   "toc_cell": false,
   "toc_position": {},
   "toc_section_display": true,
   "toc_window_display": false
  }
 },
 "nbformat": 4,
 "nbformat_minor": 2
}
