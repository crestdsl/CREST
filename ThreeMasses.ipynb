{
 "cells": [
  {
   "cell_type": "code",
   "execution_count": 1,
   "metadata": {
    "hide_input": true,
    "init_cell": true
   },
   "outputs": [
    {
     "data": {
      "text/html": [
       "<style>.container { width:90% !important; }</style>"
      ],
      "text/plain": [
       "<IPython.core.display.HTML object>"
      ]
     },
     "metadata": {},
     "output_type": "display_data"
    }
   ],
   "source": [
    "# this is a little trick to make sure the the notebook takes up most of the screen:\n",
    "from IPython.display import HTML\n",
    "display(HTML(\"<style>.container { width:90% !important; }</style>\"))\n",
    "\n",
    "# Recommendation: logging config like this, otherwise you'll be flooded with unnecessary information\n",
    "import logging\n",
    "logging.basicConfig(level=logging.ERROR)"
   ]
  },
  {
   "cell_type": "markdown",
   "metadata": {},
   "source": [
    "## Import the CREST model and the CREST simulator libraries"
   ]
  },
  {
   "cell_type": "code",
   "execution_count": null,
   "metadata": {},
   "outputs": [],
   "source": [
    "# import all modeling concepts\n",
    "from src.model import *\n",
    "\n",
    "# import the simulator\n",
    "from src.simulator.simulator import Simulator"
   ]
  },
  {
   "cell_type": "markdown",
   "metadata": {},
   "source": [
    "## Use of libraries\n",
    "\n",
    "To visualize the evolution of systems, we can use standard python libraries.  \n",
    "The libraries we are going to use ([plotly](https://plot.ly/)) offers a python API that can be used from within Jupyter notebooks.\n",
    "It is alredy installed, but if it weren't we could easily install the dependency using [pip](https://en.wikipedia.org/wiki/Pip_(package_manager)) like so:  \n",
    "`!pip install plotly`. (You can try running the command. Pip should tell you that it is already installed).\n",
    "\n",
    "The function below shows how easy it is to create interactive plots of system traces.  \n",
    "Every plot supports zooming in/out, selections and even downloading screenshots."
   ]
  },
  {
   "cell_type": "code",
   "execution_count": null,
   "metadata": {
    "code_folding": [
     5
    ]
   },
   "outputs": [],
   "source": [
    "import plotly\n",
    "import plotly.graph_objs as go\n",
    "plotly.offline.init_notebook_mode(connected=True)  # don't talk to the plotly server, plot locally within a jupyter notebook\n",
    "\n",
    "\n",
    "def plotly_mass(sim, portnames_to_plot=None):\n",
    "    \"\"\"This function takes a simulator and a list of portnames and plots the traces of all ports with that name.\"\"\"\n",
    "    \n",
    "    # if we don't specify a list of portnames to plot, use this as default\n",
    "    if not portnames_to_plot: \n",
    "        portnames_to_plot = [\"x\", \"y\", \"vx\", \"vy\"]\n",
    "    \n",
    "    store = sim.traces.datastore  # get the trace-datastore from the simulator; the datastore is a mapping that stores ports and their time-value traces and entities and their time-current states traces\n",
    "    \n",
    "    # create the lines we want to plot\n",
    "    lines = []\n",
    "    for port_or_entity, time_value_map in store.items():\n",
    "\n",
    "        # iterate over the entries in the data store, check if the entry is a port and it's name is in the list of ports we want to plot\n",
    "        if isinstance(port_or_entity, Port) and port_or_entity._name in portnames_to_plot:\n",
    "            # the line's label should be the port name + parent-name as prefix if it exists\n",
    "            name = port_or_entity._name\n",
    "            if port_or_entity._parent._name:\n",
    "                name = f\"{port_or_entity._parent._name}.{name}\"\n",
    "            # add a new line\n",
    "            lines.append(\n",
    "                go.Scatter(x=list(time_value_map.keys()), y=list(time_value_map.values()), \n",
    "                           name=f\"{name} ({port_or_entity.resource.unit})\", # append the unit to the name in the legend\n",
    "                           mode=\"markers+lines\", marker={'symbol': 'x', 'size': \"7\"}, line={'width': 0.5}  \n",
    "                          )\n",
    "            )\n",
    "            \n",
    "            \n",
    "    # create a figure object\n",
    "    fig = go.Figure(\n",
    "        data=lines,\n",
    "        layout=go.Layout(showlegend=True, xaxis=dict(title='global time'))\n",
    "    )\n",
    "    \n",
    "    # plot it!\n",
    "    plotly.offline.iplot(fig)"
   ]
  },
  {
   "cell_type": "markdown",
   "metadata": {},
   "source": [
    "## Define the resources that we use in the system\n",
    "\n",
    "In this system we will deal with positions, velocity and acceleration.  \n",
    "Additionally the system can define the mass of objects (in kg).  \n",
    "The restitution factor, although not being a resource in the literal sense, is also defined as a resource."
   ]
  },
  {
   "cell_type": "code",
   "execution_count": null,
   "metadata": {
    "code_folding": [],
    "scrolled": false
   },
   "outputs": [],
   "source": [
    "m = Resource(\"m\", REAL)                 # meters (position)\n",
    "mps = Resource(\"m/s\", REAL)             # meters per second (velocity)\n",
    "mps2 = Resource(\"m/s/s\", REAL)          # meters per second per second (acceleration)\n",
    "kg = Resource(\"kg\", REAL)               # kilograms\n",
    "restitution = Resource(\"factor\", REAL)  # the restitution factor \n",
    "\n",
    "\"\"\"\n",
    "These are model parameters. They can be used to set initial conditions and similar.\n",
    "Remember to only use variables as initial values for ports or e.g. in __init__ functions.\n",
    "Never use them in transition guards, updates, actions or influences, since the simulator cannot predict their value and hence cannot calculate the correct next transition time.\n",
    "\"\"\"\n",
    "\n",
    "# These variables are used as default values for ports\n",
    "global e \n",
    "e = 0.9  # restitution factor\n",
    "L = 7  # table length\n",
    "H = 3  # table height\n"
   ]
  },
  {
   "cell_type": "markdown",
   "metadata": {},
   "source": [
    "## Definition of the Mass entity"
   ]
  },
  {
   "cell_type": "code",
   "execution_count": null,
   "metadata": {
    "code_folding": [],
    "scrolled": false
   },
   "outputs": [],
   "source": [
    "class Mass(Entity):\n",
    "    \"\"\"\n",
    "    A simple mass entity. It is placed at a certain (x,y) position with a specific velocity (vx, vy) \n",
    "    and acceleration (ax, ay). The x-velocity can be set using an input vx_in. If vx_in != 0 it will \n",
    "    override the value currently held by the entity. It offers its x and vx values in the ports x_out\n",
    "    and vx_out.\n",
    "    \n",
    "    If the mass reaches the end of the table (x == L) the entity switches to the falling-state and \n",
    "    modifies its y-acceleration and hence also its y-position. From that moment it becomes similar \n",
    "    to a bouncing-ball experiment, except that it's x-value also changes. On every bounce, the \n",
    "    restitution factor slows the velocity of both x and y by the restitution factor.\n",
    "    \"\"\"\n",
    "    \n",
    "    \n",
    "    \"\"\"- - - - - - - - - Constructor - - - - - - - - -\"\"\"\n",
    "    \n",
    "    def __init__(self, x0, vx0=0):\n",
    "        \"\"\"We have to provide an initial x-position on the table and an initial x-velocity\"\"\"\n",
    "        self.x.value = x0\n",
    "        self.vx.value = vx0\n",
    "    \n",
    "    \"\"\"- - - - - - - - - PORTS - - - - - - - - -\"\"\"\n",
    "\n",
    "    e = Local(restitution, e)  # restitution factor\n",
    "    L = Local(m, L)  # table length\n",
    "    H = Local(m, H)  # table height\n",
    "    \n",
    "    x = Local(m, 0)  # the position (init should be an input param)\n",
    "    y = Local(m, 3)  # the height of the table (should be an input param)\n",
    "    \n",
    "    x_out = Output(m, 0)  # forward output\n",
    "    vx_out = Output(mps, 0) # forward output\n",
    "    vx_in = Input(mps, 0) # to set the speed from the outside\n",
    "    \n",
    "    vx = Local(mps, 3)  # this should be an input param\n",
    "    vy = Local(mps, 0)  # this should be an input param\n",
    "    \n",
    "    ay = Local(mps2, 0)  # acceleration\n",
    "\n",
    "    \"\"\"- - - - - - - - - INFLUENCES - - - - - - - - -\"\"\"\n",
    "        \n",
    "    forward_x_out = Influence(source=x, target=x_out)\n",
    "    forward_vx_out = Influence(source=vx, target=vx_out)\n",
    "\n",
    "    \"\"\"- - - - - - - - - STATES - - - - - - - - -\"\"\"\n",
    "    \n",
    "    on_table = current = State()\n",
    "    falling = State()  # downward movement\n",
    "    bouncing = State() # upward movement\n",
    "       \n",
    "    \"\"\"- - - - - - - - - TRANSITIONS - - - - - - - - -\"\"\"    \n",
    "    \n",
    "    fall_off_table = Transition(source=on_table, target=falling, guard=(lambda self: self.x.value == self.L.value and self.vx.value > 0))\n",
    "    \n",
    "    # actually we should find when the vy == 0 for the guard.\n",
    "    # However, Python's floats aren't as precise as Z3's Real datatype, so a == 0 can provide wrong results.\n",
    "    # it's safer to use inequalities when comparing floats (duh...)\n",
    "    fall   = Transition(source=bouncing, target=falling, guard=(lambda self: self.vy.value <= 0))\n",
    "    \n",
    "    # We should use an inequality here as well (y <= 0)\n",
    "    # However, since our system is non-linear (the y position changes with dt^2), this means that the optimization is non-linear. And Z3 is just not good at that!\n",
    "    # We therefore use the following trick: We try to find the place where the absolute value is very close to 0\n",
    "    # Why don't you try setting it to 10 ** -10, and executing the simulation again?\n",
    "    bounce = Transition(source=falling, target=bouncing, guard=(lambda self: abs(self.y.value) < 10**-3))  \n",
    "\n",
    "    \"\"\"- - - - - - - - - Actions & Updates - - - - - - - - -\"\"\"\n",
    "    \n",
    "    # bounce actions\n",
    "    @action(transition=bounce, target=vx)\n",
    "    def action_apply_vx_restitution(self):\n",
    "        \"\"\"on bounce we apply restitution to vx\"\"\"\n",
    "        return self.vx.pre * self.e.value # apply restitution factor  \n",
    "\n",
    "    @action(transition=bounce, target=vy)\n",
    "    def action_vy_bouncing(self):\n",
    "        \"\"\"on bounce we apply restitution to vy and also inverse the force to change the direction \"\"\"\n",
    "        return self.vy.pre * self.e.value  * -1 # use restitution and inverse force\n",
    "  \n",
    "    # X value updates\n",
    "    \n",
    "    @update(state=[on_table, falling, bouncing], target=x)\n",
    "    def update_x(self, dt):\n",
    "        \"\"\" The X value is the previous x value + average velocity * dt\"\"\"\n",
    "        return self.x.pre + (self.vx.value + self.vx.pre) / 2 * dt\n",
    "    \n",
    "    @update(state=[on_table, falling, bouncing], target=vx)\n",
    "    def update_vx(self, dt):\n",
    "        \"\"\" If we have an external value set to vx_in, then we use that one. If the external value is 0, then we continue using the internal value.\"\"\"\n",
    "        if self.vx_in.value != 0: # external setting of speed\n",
    "            return self.vx_in.value\n",
    "        else:\n",
    "            return self.vx.pre\n",
    "\n",
    "    # Y value updates\n",
    "                      \n",
    "    @update(state=[falling, bouncing], target=ay)\n",
    "    def update_ay_falling(self, dt):\n",
    "        \"\"\"change the acceleration to the value of gravity (rounded)\"\"\"\n",
    "        return -9.81\n",
    "    \n",
    "    @update(state=[falling, bouncing], target=y)\n",
    "    def update_y(self, dt):\n",
    "        \"\"\"The new position is the old position plus average velocity times passed time\"\"\"\n",
    "        average_velocity = (self.vy.value + self.vy.pre) / 2.0 \n",
    "        return self.y.pre + average_velocity * dt  # traversed distance = (v0+v_end)/2*t \n",
    "    \n",
    "    @update(state=[falling, bouncing], target=vy)\n",
    "    def update_vy(self, dt):\n",
    "        \"\"\"The average velocity is the previous velocity plus acceleration times time.\n",
    "        Note, that velocity here can be positive and negative, depending on whether we're falling or bouncing up again\"\"\"\n",
    "        return self.vy.pre + self.ay.value * dt\n",
    "\n",
    "\n",
    "mass = Mass(x0=0, vx0=3) # Create a mass with initial position zero (reminder: he table has a length of 7)\n",
    "sim = Simulator(mass)    # create a simulator for the mass\n",
    "sim.stabilise()          # stabilize the system (make sure the initial values are propagated and the x and vx-out values are set correctly)\n",
    "sim.plot()               # we can plot the system here to see what it looks like"
   ]
  },
  {
   "cell_type": "markdown",
   "metadata": {},
   "source": [
    "## Run Simulation (advance time)\n",
    "Below is the code that simulates time advance.\n",
    "Following that, we let *plotly* draw a graph. (Try analyzing it by zooming in and looking at the measurement points).\n",
    "\n",
    "\n",
    "**The simulation breaks at some point shortly after 17 timeunits**\n",
    "\n",
    "**Warning**  \n",
    "Note, that the graph only shows the most current values at a timestamp. Therefore it looks like the y-velocity `vy` is always positive.\n",
    "This is not correct!\n",
    "The plots measurement points shown are the values *after* the transitions are fired (and the related actions override the values from before).\n",
    "\n",
    "A CREST transition firing consists of the following steps:\n",
    " 1. advance time, calculate the new port value  \n",
    " 2. fire transition + execute transition actions\n",
    " 3. stabilise and calculate new port values (execute updates with dt = 0)\n",
    "\n",
    "After each one of these steps, the values are logged into a time-portvalue map. \n",
    "In the case of the `vy` port, this means that step 1 will calculate the velocity at transition from `falling` to `bouncing` (which will a negative value since it will be the fastest right at the time of bouncing off). As soon as the transition is fired, the action will calculate a new value for `vy`, without any time advancing. \n",
    "This means the new value of `vy` will replace the old `vy` value in the plot.\n",
    "\n",
    "Although the plotted measurement points (the cross-markers) are correct values, the connection lines in the below plot are misleading.\n",
    "We hope to improve the tracing and plotting capabilities.\n",
    "\n",
    "**Debug Info:** If you only see a white box but no graph, try deactivating your adblocker. In some situations AdblockPlus and PrivacyBadger were preventing the required JavaScript from loading."
   ]
  },
  {
   "cell_type": "code",
   "execution_count": null,
   "metadata": {
    "scrolled": false
   },
   "outputs": [],
   "source": [
    "mass_sim = Simulator(Mass(x0=0, vx0=3))\n",
    "mass_sim.stabilise()        # stabilize the system (make sure the initial values are propagated and the x and vx-out values are set correctly)\n",
    "mass_sim.advance(17)        # advance time     --- Note, advancing more than 17.186372009515782 will kill the Python kernel. Please don't do it! (Restart with Kernel -> Restart & Run All above if you already did )\n",
    "plotly_mass(mass_sim)       # plot the port values over time"
   ]
  },
  {
   "cell_type": "markdown",
   "metadata": {
    "scrolled": true
   },
   "source": [
    "### Smaller time steps \n",
    "By default, the simulator advances in as big steps as possible. \n",
    "However, this means that we lose out on tracking values inbetween.\n",
    "To counteract this behaviour we can force CREST to advance in slower time steps.\n",
    "The plot below shows the tracking after executing 65 time steps of size 0.25 each.\n",
    "\n",
    "Note, how despite the chosen time step, we se that at transition times additional values are logged, as above.\n",
    "These are the points where behaviour changes and CREST is forced to stabilize the system.\n",
    "\n",
    "One beneficial feature is that the plot below displays the actual behaviour of `vy` much better. "
   ]
  },
  {
   "cell_type": "code",
   "execution_count": null,
   "metadata": {},
   "outputs": [],
   "source": [
    "smallstep_sim = Simulator(Mass(x0=0, vx0=3))\n",
    "smallstep_sim.stabilise()\n",
    "[smallstep_sim.advance(.25) for _ in range(65)]\n",
    "plotly_mass(smallstep_sim)"
   ]
  },
  {
   "cell_type": "markdown",
   "metadata": {},
   "source": [
    "## Three Masses system"
   ]
  },
  {
   "cell_type": "code",
   "execution_count": null,
   "metadata": {
    "code_folding": []
   },
   "outputs": [],
   "source": [
    "class ThreeMasses(Entity):\n",
    "    \"\"\"\n",
    "    The three masses system\n",
    "    \n",
    "    This system initializes three equal masses (their measured mass is defined in port m).\n",
    "    There are three individual states: the masses do not touch, mass1 touches mass2 and mass2 touches mass3\n",
    "    (In this model it is not possible for all masses to touch at the same time!)\n",
    "    \n",
    "    The transitions are based on the x-positions. If their distance is lower than a certain threshold and the\n",
    "    first one is faster than the second one, we call it a collision. Then some actions will kick in and change\n",
    "    the involved masses' velocities. (i.e. set them externally). If they don't touch, we use updates to continuously \n",
    "    set their vx_in to zero, so that the masses calculate vx themselves.\n",
    "    \"\"\"\n",
    "    \n",
    "    \"\"\"- - - - - - - - - PORTS - - - - - - - - -\"\"\"\n",
    "    \n",
    "    e = Local(restitution, e)  # restitution factor\n",
    "    m = Local(kg, 1)  # the actual mass of each object is 1 kg, we assume all masses are equal. Otherwise we need to adapt our system\n",
    "\n",
    "    \"\"\"- - - - - - - - - SUBENTITIES - - - - - - - - -\"\"\"\n",
    "    \n",
    "    mass1 = Mass(x0=0, vx0=3)     # mass1 is placed at 0 but has a velocity\n",
    "    mass2 = Mass(x0=6.5)          # mass2 is placed at 6.5 (close to the end) but does not move\n",
    "    mass3 = Mass(x0=7)            # mass3 is placed right at the edge (7), but does not fall because it's velocity is 0\n",
    "    \n",
    "    \"\"\"- - - - - - - - - STATES - - - - - - - - -\"\"\"\n",
    "    \n",
    "    no_touch = current = State()  # no collisions\n",
    "    m1_touch_m2 = State()         # when mass1 hits mass2\n",
    "    m2_touch_m3 = State()         # when mass2 hits mass3\n",
    "    \n",
    "    \"\"\"- - - - - - - - - TRANSITIONS - - - - - - - - -\"\"\"\n",
    "    \n",
    "    # same as above. the x_out values are based on non-linear constraints \n",
    "    collide_m1_m2     = Transition(source=no_touch, target=m1_touch_m2, guard=(lambda self: abs(self.mass1.x_out.value - self.mass2.x_out.value) < 0.1 * 10**-3 and self.mass1.vx_out.value > self.mass2.vx_out.value ))\n",
    "    m1_m2_collision_to_no_touch = Transition(source=m1_touch_m2, target=no_touch, guard=(lambda self: abs(self.mass1.x_out.value - self.mass2.x_out.value) > 0.1 * 10**-3 and self.mass1.vx_out.value <= self.mass2.vx_out.value ))\n",
    "    collide_m2_m3     = Transition(source=no_touch, target=m2_touch_m3, guard=(lambda self: abs(self.mass2.x_out.value - self.mass3.x_out.value) < 0.1 * 10**-5 and self.mass2.vx_out.value > self.mass3.vx_out.value ))\n",
    "    m2_m3_collision_to_no_touch = Transition(source=m2_touch_m3, target=no_touch, guard=(lambda self: abs(self.mass2.x_out.value - self.mass3.x_out.value) > 0.1 * 10**-3 and self.mass2.vx_out.value <= self.mass3.vx_out.value ))\n",
    "\n",
    "    \"\"\"- - - - - - - - - UPDATES & ACTIONS - - - - - - - - -\"\"\"\n",
    "    \n",
    "    @update(state=no_touch, target=mass1.vx_in)\n",
    "    def no_touch_mass1vx_in(self, dt):\n",
    "        # if we the masses don't touch, then don't change their velocity\n",
    "        return 0\n",
    "    \n",
    "    @update(state=no_touch, target=mass2.vx_in)\n",
    "    def no_touch_mass2vx_in(self, dt):\n",
    "        # if we the masses don't touch, then don't change their velocity\n",
    "        return 0\n",
    "\n",
    "    @update(state=no_touch, target=mass3.vx_in)\n",
    "    def no_touch_mass3vx_in(self, dt):\n",
    "        # if we the masses don't touch, then don't change their velocity\n",
    "        return 0\n",
    "    \n",
    "    @action(transition=collide_m1_m2, target=mass1.vx_in)\n",
    "    def m1_collide_m2_action_m1_vx(self):\n",
    "        # on collision with mass2 change mass1's velocity\n",
    "        m = self.m.value  # read the current port values into local variables\n",
    "        e = self.e.value  # this makes the formula below easier to read\n",
    "        return self.mass1.vx_out.value * (m - e * m) / (2 * m) + self.mass2.vx_out.value * m * (1 + e) / (2*m)\n",
    "    \n",
    "    @action(transition=collide_m1_m2, target=mass2.vx_in)\n",
    "    def m1_collide_m2_action_m2_vx(self):\n",
    "        # on collision with mass1 change mass2's velocity\n",
    "        m = self.m.value\n",
    "        e = self.e.value\n",
    "        return self.mass1.vx_out.value * (1 + e) * m / (2*m) + self.mass2.vx_out.value * (m - e * m) / (2*m)\n",
    "    \n",
    "    @action(transition=collide_m2_m3, target=mass2.vx_in)\n",
    "    def m2_collide_m3_action_m1_vx(self):\n",
    "        # on collision with mass3 change mass2's velocity\n",
    "        m = self.m.value\n",
    "        e = self.e.value\n",
    "        return self.mass2.vx_out.value * (m - e * m) / (2*m) + self.mass3.vx_out.value * m * (1 + e) / (2*m)\n",
    "    \n",
    "    @action(transition=collide_m2_m3, target=mass3.vx_in)\n",
    "    def m2_collide_m3_action_m2_vx(self):\n",
    "        # on collision with mass2 change mass3's velocity\n",
    "        m = self.m.value\n",
    "        e = self.e.value\n",
    "        return self.mass2.vx_out.value * (1 + e) * m / (2*m) + self.mass3.vx_out.value * (m - e * m) / (2*m)\n",
    "    "
   ]
  },
  {
   "cell_type": "code",
   "execution_count": null,
   "metadata": {
    "code_folding": []
   },
   "outputs": [],
   "source": [
    "# Initialize the simulator, run it and plot the data \n",
    "# in the plot we can see nicely how one mass touches the other (follow the masses' x-values)\n",
    "    \n",
    "three_masses = ThreeMasses()       # create three masses system\n",
    "three_sim = Simulator(three_masses)# create simulator\n",
    "three_sim.stabilise()              # stabilize the system (make sure the initial values are propagated and the x and vx-out values are set correctly)\n",
    "three_sim.advance(17)              # advance time  (the simulation would break shortly after 17 timeunits, hence 17 is enough for us)\n",
    "plotly_mass(three_sim, [\"x\", \"y\"]) # only plot \"x\" and \"y\" ports (don't plot vx, vy, ...)"
   ]
  }
 ],
 "metadata": {
  "kernelspec": {
   "display_name": "Python 3",
   "language": "python",
   "name": "python3"
  },
  "language_info": {
   "codemirror_mode": {
    "name": "ipython",
    "version": 3
   },
   "file_extension": ".py",
   "mimetype": "text/x-python",
   "name": "python",
   "nbconvert_exporter": "python",
   "pygments_lexer": "ipython3",
   "version": "3.6.5"
  },
  "toc": {
   "base_numbering": 1,
   "nav_menu": {},
   "number_sections": true,
   "sideBar": true,
   "skip_h1_title": false,
   "title_cell": "Table of Contents",
   "title_sidebar": "Contents",
   "toc_cell": false,
   "toc_position": {},
   "toc_section_display": true,
   "toc_window_display": false
  }
 },
 "nbformat": 4,
 "nbformat_minor": 2
}
