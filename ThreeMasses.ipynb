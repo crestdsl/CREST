{
 "cells": [
  {
   "cell_type": "code",
   "execution_count": null,
   "metadata": {},
   "outputs": [],
   "source": [
    "from IPython.core.display import display, HTML\n",
    "display(HTML(\"<style>.container { width:90% !important; }</style>\"))"
   ]
  },
  {
   "cell_type": "code",
   "execution_count": null,
   "metadata": {},
   "outputs": [],
   "source": [
    "# Recommendation to leave the logging config like this, otherwise you'll be flooded with unnecessary info\n",
    "import logging\n",
    "logging.basicConfig(level=logging.WARNING, format='%(levelname)s:%(filename)s:%(message)s')  \n",
    "\n",
    "dotLog = logging.getLogger(name=\"src.ui.dotter\")\n",
    "dotLog.setLevel(logging.DEBUG)\n",
    "entityLog = logging.getLogger(name=\"src.model.entity\")\n",
    "# entityLog.setLevel(logging.DEBUG)\n",
    "ttLog = logging.getLogger(name=\"src.simulator.transitiontime\")\n",
    "# ttLog.setLevel(logging.DEBUG)\n",
    "z3calcLog = logging.getLogger(name=\"src.simulator.z3calculator\")\n",
    "# z3calcLog.setLevel(logging.DEBUG)\n",
    "to_z3Log = logging.getLogger(name=\"src.simulator.to_z3\")\n",
    "# to_z3Log.setLevel(logging.DEBUG)\n",
    "ctccLog = logging.getLogger(name=\"src.simulator.conditiontimedchangecalculator\")\n",
    "# ctccLog.setLevel(logging.DEBUG)\n",
    "z3ctccLog = logging.getLogger(name=\"src.simulator.z3conditionchangecalculator\")\n",
    "# z3ctccLog.setLevel(logging.DEBUG)\n",
    "simLog = logging.getLogger(name=\"src.simulator.simulator\")\n",
    "simLog.setLevel(logging.DEBUG)\n",
    "\n",
    "# import all model concepts\n",
    "from src.model import *\n",
    "\n",
    "# import the simulator\n",
    "from src.simulator.simulator import Simulator\n",
    "from src.simulator.z3simulator import Z3Simulator\n",
    "\n",
    "\n",
    "# import a library that can visualise our systems\n",
    "from src.ui import dotter"
   ]
  },
  {
   "cell_type": "code",
   "execution_count": null,
   "metadata": {},
   "outputs": [],
   "source": [
    "m = Resource(\"m\", REAL)\n",
    "mps = Resource(\"m/s\", REAL)\n",
    "restitution = Resource(\"factor\", REAL)\n",
    "\n",
    "import matplotlib.pyplot as plt\n",
    "\n",
    "def plot_traces(sim):\n",
    "    store = sim.traces.datastore\n",
    "\n",
    "    fig = plt.figure()\n",
    "    ax = fig.add_subplot(1, 1, 1)\n",
    "    # adjust the subplot height & width according to kwargs\n",
    "    fig.set_figwidth(15)\n",
    "    fig.set_figheight(7)\n",
    "\n",
    "    for port_entity, time_value_map in store.items():\n",
    "        if isinstance(port_entity, Port) and port_entity._name in [\"vy\", \"y\", \"x\", \"vx\"]:\n",
    "            ax.plot(time_value_map.keys(), time_value_map.values(), label=port_entity._name)\n",
    "    ax.axhline(y=0, color='k',linewidth=.5)\n",
    "    ax.axvline(x=0, color='k',linewidth=.5)\n",
    "\n",
    "    plt.legend(loc='best')\n",
    "    pass\n"
   ]
  },
  {
   "cell_type": "code",
   "execution_count": null,
   "metadata": {
    "code_folding": [],
    "scrolled": false
   },
   "outputs": [],
   "source": [
    "class Mass(Entity):\n",
    "    \n",
    "    e = Local(restitution, 0.9)  # restitution factor\n",
    "    \n",
    "    x = Local(m, 0)  # the position (init should be an input param)\n",
    "    y = Local(m, 3)  # the height of the table (should be an input param)\n",
    "    \n",
    "    vx = Local(mps, 3)  # this should be an input param\n",
    "    vy = Local(mps, 0)  # this should be an input param\n",
    "    \n",
    "    ax = Local(mps, 0)\n",
    "    ay = Local(mps, 0)\n",
    "    \n",
    "    L = Input(m, 7)  # table length\n",
    "    H = Input(m, 3)  # table height\n",
    "\n",
    "    \n",
    "    on_table = current = State()\n",
    "    falling = State()  # downward movement\n",
    "    bouncing = State()  # upward movement\n",
    "    \n",
    "    fall_off_table = Transition(source=on_table, target=falling, guard=(lambda self: self.x.value == self.L.value))\n",
    "    bounce = Transition(source=falling, target=bouncing, guard=(lambda self: abs(self.y.value) <= 0.1 * 10**-5))  # instead of equality or lower-equals we make sure that it is in the region around the 0 point (i.e. the absolute value is smaller than an epsilon).\n",
    "    fall   = Transition(source=bouncing, target=falling, guard=(lambda self: abs(self.vy.value) <= 0.1 * 10**-5 and abs(self.y.value) >= 0.1 * 10**-5 ))  #  This is to fix the \"overshooting\" problem of equality but also the unsatisfiability of a standard-inequality (<= 0)\n",
    "    \n",
    "    \"\"\" X value \"\"\"\n",
    "    \n",
    "    @update(state=[on_table, falling, bouncing], target=x)\n",
    "    def update_x(self, dt):\n",
    "        return self.x.value + self.vx.value * dt\n",
    "    \n",
    "        \n",
    "    @update(state=bouncing, target=vx)\n",
    "    def update_vx_bounce_up(self, dt):\n",
    "        # on every bounce we reduce the value using the restitution factor\n",
    "        if abs(self.y.value) <= 0.1 * 10**-5 and self.vy.value < 0:  # this means we're near the ground, and we haven't changed to upwards movement yet. good time to apply restitution factor\n",
    "            return self.vx.value * self.e.value        \n",
    "        else:\n",
    "            return self.vx.value\n",
    "\n",
    "    \"\"\" Y value \"\"\"\n",
    "    \n",
    "    @update(state=[on_table, falling], target=y)\n",
    "    def update_y(self, dt):\n",
    "        # speed is still zero, don't change\n",
    "        if abs(self.vy.value) <= 0.1 * 10**-5:\n",
    "            # print(\"UNCHANGED\", \"dt\", dt, \"vy\", self.vy.value, \"ay\", self.ay.value)\n",
    "            return self.y.value\n",
    "        else:\n",
    "            # z3 will calculate based on the conception that vy is the value at the end, but we need the one at the start for this!\n",
    "            agv_v = (self.vy.value + self.vy.value - self.ay.value * dt) / 2.0 # velocity at the end is the velocity after adding 9.81 m/s times the \n",
    "            # print(\"CHANGE\", \"dt\", dt, \"vy\", self.vy.value, \"ay\", self.ay.value, \"new y: \", self.y.value + agv_v * dt, \"avg_v\", agv_v)\n",
    "            return self.y.value + agv_v * dt  # s = (v0+v_end)/2*t ; s is the traversed distance  (v_end+v0)/2*t \n",
    "    \n",
    "    @update(state=[bouncing,falling], target=vy)\n",
    "    def update_vy_falling(self, dt):\n",
    "        return self.vy.value + self.ay.value * dt\n",
    "\n",
    "    @update(state=bouncing, target=vy)\n",
    "    def update_vy_bouncing(self, dt):\n",
    "        if abs(self.y.value) <= 0.1 * 10**-5 and self.vy.value < 0:  # this means we're near the ground, and we haven't changed to upwards movement yet. good time to apply restitution factor\n",
    "            return self.vy.value * self.e.value  * -1 # use restitution and inverse force\n",
    "        else:\n",
    "            return self.vy.value + self.ay.value * dt\n",
    "        \n",
    "    @update(state=[falling, bouncing], target=ay)\n",
    "    def update_ay_falling(self, dt):\n",
    "        return -9.81\n",
    "    \n",
    "mass = Mass()\n",
    "sim = Simulator(mass, plotter=dotter)\n",
    "sim.stabilise()\n",
    "sim.advance(7)\n",
    "plot_traces(sim)"
   ]
  },
  {
   "cell_type": "code",
   "execution_count": null,
   "metadata": {
    "scrolled": false
   },
   "outputs": [],
   "source": [
    "mass = Mass()\n",
    "sim = Simulator(mass, plotter=dotter)\n",
    "sim.stabilise()\n",
    "sim.advance(7)\n",
    "#[sim.advance(.1) for _ in range(70)]"
   ]
  },
  {
   "cell_type": "code",
   "execution_count": null,
   "metadata": {
    "code_folding": []
   },
   "outputs": [],
   "source": []
  },
  {
   "cell_type": "code",
   "execution_count": null,
   "metadata": {},
   "outputs": [],
   "source": [
    "# mass = Mass()\n",
    "# sim = Simulator(mass, plotter=dotter)\n",
    "# sim.stabilise()\n",
    "# sim.advance(2)\n",
    "# [sim.advance(.1) for _ in range(10)]\n",
    "# sim.plot()"
   ]
  },
  {
   "cell_type": "code",
   "execution_count": null,
   "metadata": {
    "code_folding": [
     0
    ]
   },
   "outputs": [],
   "source": [
    "# sim.advance(0.1)\n",
    "# sim.plot()\n",
    "# # sim.advance(0.1)\n",
    "# sim.plot()\n",
    "# sim.advance(0.1)\n",
    "# sim.plot()\n",
    "# sim.advance(0.1)\n",
    "# sim.plot()"
   ]
  },
  {
   "cell_type": "code",
   "execution_count": null,
   "metadata": {},
   "outputs": [],
   "source": [
    "# sim.traces.plot(*get_ports(sim.entity), height=3, width=15)"
   ]
  }
 ],
 "metadata": {
  "kernelspec": {
   "display_name": "Python 3",
   "language": "python",
   "name": "python3"
  },
  "language_info": {
   "codemirror_mode": {
    "name": "ipython",
    "version": 3
   },
   "file_extension": ".py",
   "mimetype": "text/x-python",
   "name": "python",
   "nbconvert_exporter": "python",
   "pygments_lexer": "ipython3",
   "version": "3.6.3"
  },
  "toc": {
   "base_numbering": 1,
   "nav_menu": {},
   "number_sections": true,
   "sideBar": true,
   "skip_h1_title": false,
   "title_cell": "Table of Contents",
   "title_sidebar": "Contents",
   "toc_cell": false,
   "toc_position": {},
   "toc_section_display": true,
   "toc_window_display": false
  }
 },
 "nbformat": 4,
 "nbformat_minor": 2
}
