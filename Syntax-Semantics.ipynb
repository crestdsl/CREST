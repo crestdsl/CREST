{
 "cells": [
  {
   "cell_type": "markdown",
   "metadata": {},
   "source": [
    "# <font size=\"200\"> A small showcase of CREST </font>\n",
    "Thank you to [Jupyter](http://jupyter.org/) and [Binder](https://mybinder.org/) for building the base of interactive CREST.\n",
    "\n",
    "This is a preliminary implementation. It is meant as a showcase and is not yet production ready.  \n",
    "The source code can be found here: https://github.com/stklik/CREST/tree/binder\n",
    "\n",
    "### How to use this Jupyter notebook:  \n",
    "select a cell (with code) and click the 'Run' button above to execute it.\n",
    "If there is output, it will be shown directly underneath the cell. \n",
    "Remember that the cells can create dependencies\n",
    "\n",
    "**Alternatively**:  \n",
    "Menu 'Cell' -> 'Run all'\n"
   ]
  },
  {
   "cell_type": "markdown",
   "metadata": {},
   "source": [
    "# First import the necessary libraries"
   ]
  },
  {
   "cell_type": "code",
   "execution_count": null,
   "metadata": {},
   "outputs": [],
   "source": [
    "# Recommendation to leave the logging config like this, otherwise you'll be flooded with unnecessary info\n",
    "import logging\n",
    "logging.basicConfig(level=logging.INFO, format='%(levelname)s:%(message)s')  \n",
    "\n",
    "# import all model concepts\n",
    "from src.model import *\n",
    "\n",
    "# import the simulator\n",
    "from src.simulator.simulator import Simulator\n",
    "\n",
    "# import a library that can visualise our systems\n",
    "from src.ui import dotter"
   ]
  },
  {
   "cell_type": "markdown",
   "metadata": {},
   "source": [
    "## Define the resources that we use in the system"
   ]
  },
  {
   "cell_type": "code",
   "execution_count": null,
   "metadata": {
    "code_folding": []
   },
   "outputs": [],
   "source": [
    "# define the resources in a class, so they are bundled. This is syntactic sugar.\n",
    "# it is important however that none of the resources has the same name as any of the ports!\n",
    "\n",
    "# currently supported domains: REAL, INTEGER and lists of discrete values\n",
    "class Resources(object):\n",
    "    electricity = Resource(\"Watt\", REAL)\n",
    "    switch = Resource(\"switch\", [\"on\", \"off\"])\n",
    "    light = Resource(\"Lumen\", INTEGER)\n",
    "    time = Resource(\"minutes\", REAL)\n",
    "    celsius = Resource(\"Celsius\", REAL)\n",
    "    fahrenheit = Resource(\"Fahrenheit\", REAL)\n",
    "    "
   ]
  },
  {
   "cell_type": "markdown",
   "metadata": {},
   "source": [
    "## Let's define an entity\n",
    "Entities derive from the basic 'Entity' class.  \n",
    "They can define:\n",
    " - inputs, outputs and local variables\n",
    " - states and the current state\n",
    " - transitions between states\n",
    " - influences between ports (incl. transformations)\n",
    " - updates related to a port"
   ]
  },
  {
   "cell_type": "code",
   "execution_count": null,
   "metadata": {
    "code_folding": []
   },
   "outputs": [],
   "source": [
    "\n",
    "# this is a definition of a new Entity type\n",
    "# it derives from the Entity base class\n",
    "class LightElement(Entity):\n",
    "    # we define ports - each has a resource and an initial value\n",
    "    electricity = Input(resource=Resources.electricity, value=0)\n",
    "    light = Output(resource=Resources.light, value=0)\n",
    "    \n",
    "    # automata states - don't forget to specify one as the current state\n",
    "    on = State()\n",
    "    off = current = State()\n",
    "    \n",
    "    # transitions and guards (as lambdas)\n",
    "    off_to_on = Transition(source=off, target=on, guard=(lambda self: self.electricity.value >= 100))\n",
    "    on_to_off = Transition(source=on, target=off, guard=(lambda self: self.electricity.value < 100))\n",
    "    \n",
    "    # update functions are related to a state and define the value of a port\n",
    "    @update(state=on, target=light)\n",
    "    def set_light_on(self, dt=0):\n",
    "        return 800\n",
    "\n",
    "    @update(state=off, target=light)\n",
    "    def set_light_off(self, dt=0):\n",
    "        return 0"
   ]
  },
  {
   "cell_type": "markdown",
   "metadata": {},
   "source": [
    "## Plotting\n",
    "We use the *dotter* module to create a graphviz-dot based system representation.\n",
    "\n",
    "We can pass Boolean-valued options into the function call to adjust the output.  \n",
    "Options are as follows (incl. default values)\n",
    " - updates = True\n",
    " - update_labels = False\n",
    " - transitions = True\n",
    " - transition_labels = False\n",
    " - influence_labels = False\n",
    " - interface_only = False\n",
    " - no_behaviour = False\n",
    " - show_update_ports = False\n",
    " \n",
    " \n",
    "**GO AHEAD AND TRY IT**"
   ]
  },
  {
   "cell_type": "code",
   "execution_count": null,
   "metadata": {},
   "outputs": [],
   "source": [
    "dotter.plot(LightElement(), transition_labels=True)"
   ]
  },
  {
   "cell_type": "markdown",
   "metadata": {},
   "source": [
    "## Define another entity (without state ??)\n",
    "Note that this one does not have a state automaton.  \n",
    " -- actually we can argue that it does have a state that is always the current state and we just don't show it, but that's semantics)"
   ]
  },
  {
   "cell_type": "code",
   "execution_count": null,
   "metadata": {
    "code_folding": [
     0
    ]
   },
   "outputs": [],
   "source": [
    "class HeatElement(Entity):\n",
    "    electricity = Input(resource=Resources.electricity, value=0)\n",
    "    heat = Output(resource=Resources.celsius, value=0)\n",
    "        \n",
    "    # define an influence function\n",
    "    @influence(source=electricity, target=heat)\n",
    "    def heat_output(value):\n",
    "        return value / 100\n",
    "\n",
    "# show us what it looks like\n",
    "dotter.plot(HeatElement())\n",
    "    "
   ]
  },
  {
   "cell_type": "markdown",
   "metadata": {},
   "source": [
    "# Logical Entities\n",
    "\n",
    "These entities are just like any other entity.  \n",
    "We however specify explicitly that they do not have real world counterparts."
   ]
  },
  {
   "cell_type": "code",
   "execution_count": null,
   "metadata": {
    "code_folding": [
     1
    ]
   },
   "outputs": [],
   "source": [
    "# a logical entity (this one sums two values)\n",
    "class Adder(LogicalEntity):\n",
    "    heat_in = Input(resource=Resources.celsius, value=0)\n",
    "    room_temp_in = Input(resource=Resources.celsius, value=22)\n",
    "    temperature = Output(resource=Resources.celsius, value=22)\n",
    "    \n",
    "    state = current = State()\n",
    "    @update(state=state, target=temperature)\n",
    "    def add(self, dt):\n",
    "        return self.heat_in.value + self.room_temp_in.value\n",
    "    \n",
    "dotter.plot(Adder())  # try adding the display option 'show_update_ports=True' and see what happens!"
   ]
  },
  {
   "cell_type": "markdown",
   "metadata": {},
   "source": [
    "## A more complex entity (incl. subentities)\n",
    "The GrowLamp is a standard entity just like the ones above, except...  \n",
    "... it defines subentities !!"
   ]
  },
  {
   "cell_type": "code",
   "execution_count": null,
   "metadata": {
    "code_folding": [],
    "scrolled": false
   },
   "outputs": [],
   "source": [
    "class GrowLamp(Entity):\n",
    "    # interface\n",
    "    electricity = Input(resource=Resources.electricity, value=0)\n",
    "    switch = Input(resource=Resources.switch, value=\"off\")\n",
    "    room_temperature = Input(resource=Resources.fahrenheit, value=71.6)\n",
    "    light = Output(resource=Resources.light, value=3.1415*1000) # note that these are bogus values\n",
    "    temperature = Output(resource=Resources.celsius, value=4242424242) # yes, nonsense...\n",
    "    \n",
    "    # states & transitions\n",
    "    on = State()\n",
    "    off = current = State()\n",
    "    error = State()\n",
    "    \n",
    "    off_to_on = Transition(source=off, target=on, guard=(lambda self: self.switch.value == \"on\" and self.electricity.value >= 100))\n",
    "    on_to_off = Transition(source=on, target=off, guard=(lambda self: self.switch.value == \"off\" or self.electricity.value < 100))\n",
    "    on_time = Local(resource=Resources.time, value=0)\n",
    "    \n",
    "    \n",
    "    # transition to error state if the lamp ran for more than 1000.5 time units\n",
    "    @transition(source=on, target=error)\n",
    "    def to_error(self):\n",
    "        return self.on_time.value >= 1000.5\n",
    "    \n",
    "    # subentitites are defined HERE !!!\n",
    "    \"\"\" - - - - - - - - - - - - - - - - - \"\"\"\n",
    "    lightelement = LightElement()\n",
    "    heatelement = HeatElement()\n",
    "    adder = Adder()\n",
    "    \"\"\" - - - - - - - - - - - - - - - - - \"\"\"\n",
    "    \n",
    "    @update(state=on, target=\"lightelement.electricity\")\n",
    "    def update_light_elec(self, dt):\n",
    "        return 100\n",
    "    \n",
    "    @update(state=on, target=\"heatelement.electricity\")\n",
    "    def update_heat_elec(self, dt):\n",
    "        return self.electricity.value - 100\n",
    "        \n",
    "    @update(state=on, target=on_time)\n",
    "    def update_time(self, dt):\n",
    "        return self.on_time.value + dt\n",
    "        \n",
    "    @influence(source=room_temperature, target=adder.room_temp_in)\n",
    "    def fahrenheit_to_celsius(value):\n",
    "        return (value - 32) * 5 / 9\n",
    "    \n",
    "    # we can also define updates and influences with lambda functions... \n",
    "    heat_to_add = Influence(source=heatelement.heat, target=adder.heat_in, function=(lambda val: val))\n",
    "    \n",
    "    # if the lambda function doesn't do anything (like the one above) we can omit it...\n",
    "    add_to_temp = Influence(source=adder.temperature, target=temperature)\n",
    "    light_to_light = Influence(source=lightelement.light, target=light)\n",
    "\n",
    "# create an instance!\n",
    "gl = GrowLamp()\n",
    "dotter.plot(gl)"
   ]
  },
  {
   "cell_type": "markdown",
   "metadata": {},
   "source": [
    "## Validate the Model (alpha version)\n",
    "The validator currently shipped tries to establish the structural validity.\n",
    "It is not a perfect tool and performs some basic checks. \n",
    "\n",
    "It performs the most important checks, but by no means think that your model is completely functional just because the checks pass.\n",
    "This will become more functional as we go continue."
   ]
  },
  {
   "cell_type": "code",
   "execution_count": null,
   "metadata": {
    "scrolled": false
   },
   "outputs": [],
   "source": [
    "from src.model.validator import Validator\n",
    "\n",
    "val = Validator(gl)\n",
    "val.test()  # "
   ]
  },
  {
   "cell_type": "markdown",
   "metadata": {},
   "source": [
    "## We are now going to use the Simulator\n",
    "A simulator is initialized with a root-entity and a time domain.\n",
    "For convenience we can define which plotter to use too."
   ]
  },
  {
   "cell_type": "code",
   "execution_count": null,
   "metadata": {
    "code_folding": []
   },
   "outputs": [],
   "source": [
    "sim = Simulator(gl, timeunit=REAL, plotter=dotter)\n",
    "sim.plot() # the plotting should be the same as above -- except for the current time, that is!"
   ]
  },
  {
   "cell_type": "markdown",
   "metadata": {},
   "source": [
    "## Stabilisation\n",
    "The simulator can run the system until it is stable.  \n",
    "I.e. until there is a fixpoint, where all influences have been propagated and the updates have written their port values.  \n",
    "Look specifically at the **output** values, they are now correct !!\n",
    "\n",
    "\n",
    "*Note: the value of room_temp_in is 21.999999...  This is a result of the calculation: (71.6-32)*5/9  \n",
    "*It has to do with Python's floating point calculations. \n",
    "The next CREST version will use SymPy to symbolically perform calculations and have precise results.*"
   ]
  },
  {
   "cell_type": "code",
   "execution_count": null,
   "metadata": {},
   "outputs": [],
   "source": [
    "sim.stabilise()\n",
    "sim.plot()"
   ]
  },
  {
   "cell_type": "markdown",
   "metadata": {},
   "source": [
    "## Modification of input values\n",
    "\n",
    "When we modify input port values, we see that nothing happens except what we explicitly changed.  "
   ]
  },
  {
   "cell_type": "code",
   "execution_count": null,
   "metadata": {},
   "outputs": [],
   "source": [
    "# modify the growlamp instance's inputs directly, the simulator points to that object and will use it\n",
    "gl.electricity.value = 500\n",
    "gl.switch.value = \"on\"\n",
    "sim.plot()"
   ]
  },
  {
   "cell_type": "markdown",
   "metadata": {},
   "source": [
    "It actually takes another *stabilisation_fp* to propagate the values"
   ]
  },
  {
   "cell_type": "code",
   "execution_count": null,
   "metadata": {},
   "outputs": [],
   "source": [
    "sim.stabilise()\n",
    "sim.plot()"
   ]
  },
  {
   "cell_type": "markdown",
   "metadata": {},
   "source": [
    "## Time advance\n",
    "The *advance(dt)* function can forward time.  \n",
    "Below we advance 500 time steps. The effect is that the time is now (t=500) and that on_time has the value of 500 too!"
   ]
  },
  {
   "cell_type": "code",
   "execution_count": null,
   "metadata": {
    "scrolled": false
   },
   "outputs": [],
   "source": [
    "sim.advance(500)\n",
    "sim.plot()"
   ]
  },
  {
   "cell_type": "markdown",
   "metadata": {},
   "source": [
    "## Next transition time\n",
    "The simulation of time advance is based on the calculation of the next transition time.\n",
    "\n",
    "The simulator can calculate this time by analysing system's updates and influences.  \n",
    "Currently, only a limited set of features is supported in update/influence functions: variable assignments, arithmetics\n",
    "\n",
    "*More features (conditional statements & expressions) are being developped but have to be tested first*\n",
    "\n",
    "The example below states that the error transition will be triggered after 500.5 time steps (i.e. when on_time == 1000.5)"
   ]
  },
  {
   "cell_type": "code",
   "execution_count": null,
   "metadata": {
    "scrolled": true
   },
   "outputs": [],
   "source": [
    "sim.get_next_transition_time()"
   ]
  },
  {
   "cell_type": "markdown",
   "metadata": {},
   "source": [
    "## Automatic firing of transitions\n",
    "Let's assume we want to advance more than the previous 500.5 time steps, what happens then?\n",
    "Well, we will first advance 500.5 time steps, then fire all transitions, then advance further.\n",
    "\n",
    "Note, that this function works recursively, so the log output might be a bit confusing..."
   ]
  },
  {
   "cell_type": "code",
   "execution_count": null,
   "metadata": {},
   "outputs": [],
   "source": [
    "sim.advance(550)\n",
    "sim.plot()"
   ]
  },
  {
   "cell_type": "markdown",
   "metadata": {},
   "source": [
    "## Different time scales\n",
    "By default the simulator will run in real-time.\n",
    "However, it can be configured to use integers as time unit.\n",
    "Below we have a simulator that produces two different outputs, depending on the time unit chosen.\n",
    "Effectively, the system changes to the *error* state when the *on_time* reaches 1000.5 or more.\n",
    "\n",
    "In **integer** mode the simulator will calculate that a transition happens after **1001** time units, while the **real**-valued simulator will calculate the precise point in time (**1000.5**)\n"
   ]
  },
  {
   "cell_type": "code",
   "execution_count": null,
   "metadata": {},
   "outputs": [],
   "source": [
    "growlamp = GrowLamp()  # create a growlamp instance and change inputs so it should be in state *on*\n",
    "growlamp.electricity.value = 500\n",
    "growlamp.switch.value = \"on\"\n",
    "simulator = Simulator(growlamp, timeunit=INTEGER, plotter=dotter)\n",
    "simulator.stabilise()  ## stabilise the system so it's in good state (this will produce output, safely ignore it...)"
   ]
  },
  {
   "cell_type": "markdown",
   "metadata": {},
   "source": [
    "**Now: We will use the same simulator but with different time units to show that the calculations are changed based on this.**"
   ]
  },
  {
   "cell_type": "code",
   "execution_count": null,
   "metadata": {},
   "outputs": [],
   "source": [
    "simulator.timeunit = INTEGER\n",
    "simulator.get_next_transition_time()  # should say 1001 time steps"
   ]
  },
  {
   "cell_type": "code",
   "execution_count": null,
   "metadata": {},
   "outputs": [],
   "source": [
    "simulator.timeunit = REAL\n",
    "simulator.get_next_transition_time()  # should say 1000.5 time steps"
   ]
  }
 ],
 "metadata": {
  "kernelspec": {
   "display_name": "CREST",
   "language": "python",
   "name": "crest"
  },
  "language_info": {
   "codemirror_mode": {
    "name": "ipython",
    "version": 3
   },
   "file_extension": ".py",
   "mimetype": "text/x-python",
   "name": "python",
   "nbconvert_exporter": "python",
   "pygments_lexer": "ipython3",
   "version": "3.6.0"
  },
  "varInspector": {
   "cols": {
    "lenName": 16,
    "lenType": 16,
    "lenVar": 40
   },
   "kernels_config": {
    "python": {
     "delete_cmd_postfix": "",
     "delete_cmd_prefix": "del ",
     "library": "var_list.py",
     "varRefreshCmd": "print(var_dic_list())"
    },
    "r": {
     "delete_cmd_postfix": ") ",
     "delete_cmd_prefix": "rm(",
     "library": "var_list.r",
     "varRefreshCmd": "cat(var_dic_list()) "
    }
   },
   "types_to_exclude": [
    "module",
    "function",
    "builtin_function_or_method",
    "instance",
    "_Feature"
   ],
   "window_display": false
  }
 },
 "nbformat": 4,
 "nbformat_minor": 2
}
