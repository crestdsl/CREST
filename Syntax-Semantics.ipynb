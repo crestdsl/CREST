{
 "cells": [
  {
   "cell_type": "code",
   "execution_count": 1,
   "metadata": {
    "hide_input": true,
    "init_cell": true
   },
   "outputs": [
    {
     "data": {
      "text/html": [
       "<style>.container { width:90% !important; }</style>"
      ],
      "text/plain": [
       "<IPython.core.display.HTML object>"
      ]
     },
     "metadata": {},
     "output_type": "display_data"
    }
   ],
   "source": [
    "# this is a little trick to make sure the the notebook takes up most of the screen:\n",
    "from IPython.display import HTML\n",
    "display(HTML(\"<style>.container { width:90% !important; }</style>\"))\n",
    "\n",
    "# Recommendation to leave the logging config like this, otherwise you'll be flooded with unnecessary info\n",
    "import logging\n",
    "logging.basicConfig(level=logging.WARNING, format='%(levelname)s:%(message)s')  \n"
   ]
  },
  {
   "cell_type": "markdown",
   "metadata": {},
   "source": [
    "<p><b><font size=\"200\"> A Small Showcase of CREST </font></b></p>\n",
    "Thank you to [Jupyter](http://jupyter.org/) and [Binder](https://mybinder.org/) for building the base of this interactive CREST demo.\n",
    "\n",
    "This is a preliminary implementation. It is meant as a showcase and is not yet production ready.  \n",
    "The source code can be found here: https://github.com/stklik/CREST/\n",
    "\n",
    "## How to use this Jupyter notebook:  \n",
    "Select a cell (with code) and click the 'Run' button above (or pressing `Ctrl+Enter`) to execute it.\n",
    "If there is output, it will be shown directly underneath the cell. \n",
    "Remember that executing a cell sends the cell's code to an interactive Python interpreter and the memory state is carried forward.\n",
    "This means that you the execution order is important. Also, repeatedly executing a cell will not replace the previous state, but add to it.\n",
    "This means that if you e.g. define a cell with the code `a = a + 1` (where `a` is a variable defined in a previous cell) then each execution of the cell will increment the value of `a` by one.\n",
    "\n",
    "**This notebook** was designed to execute all cells from top to bottom. You can either iteratively execute each cell or simply execute all at once:  \n",
    "Menu `Cell` -> `Run all`  "
   ]
  },
  {
   "cell_type": "markdown",
   "metadata": {},
   "source": [
    "# First import the necessary CREST model libraries"
   ]
  },
  {
   "cell_type": "code",
   "execution_count": null,
   "metadata": {},
   "outputs": [],
   "source": [
    "# import all model concepts\n",
    "from crestdsl.model import *"
   ]
  },
  {
   "cell_type": "markdown",
   "metadata": {},
   "source": [
    "## Define the resources that we use in the system"
   ]
  },
  {
   "cell_type": "code",
   "execution_count": null,
   "metadata": {
    "code_folding": []
   },
   "outputs": [],
   "source": [
    "# define the resources in a class, so they are bundled. This is syntactic sugar.\n",
    "# it is important however that none of the resources has the same name as any of the ports!\n",
    "\n",
    "# currently supported value domains: REAL, INTEGER and lists of discrete values\n",
    "class Resources(object):\n",
    "    electricity = Resource(\"Watt\", REAL)\n",
    "    switch = Resource(\"switch\", [\"on\", \"off\"])\n",
    "    light = Resource(\"Lumen\", INTEGER)\n",
    "    counter = Resource(\"Count\", INTEGER)\n",
    "    time = Resource(\"minutes\", REAL)\n",
    "    celsius = Resource(\"Celsius\", REAL)\n",
    "    fahrenheit = Resource(\"Fahrenheit\", REAL)\n",
    "    "
   ]
  },
  {
   "cell_type": "markdown",
   "metadata": {},
   "source": [
    "## Let's define an entity\n",
    "Entities derive from the basic 'Entity' class.  \n",
    "They can define:\n",
    " - inputs, outputs and local variables\n",
    " - states and the current state\n",
    " - transitions between states\n",
    " - influences between ports (incl. transformations)\n",
    " - updates related to a port, which continuously evaluate while in a certain state\n",
    " - actions, which are updates that are executed when a transition is fired (semantically with a dt of 0, here we don't even use the parameter)"
   ]
  },
  {
   "cell_type": "code",
   "execution_count": null,
   "metadata": {
    "code_folding": []
   },
   "outputs": [],
   "source": [
    "class LightElement(Entity):\n",
    "    \"\"\"This is a definition of a new Entity type. It derives from CREST's Entity base class.\"\"\"\n",
    "    \n",
    "    \"\"\"we define ports - each has a resource and an initial value\"\"\"\n",
    "    electricity = Input(resource=Resources.electricity, value=0)\n",
    "    light = Output(resource=Resources.light, value=0)\n",
    "    \n",
    "    \"\"\"automaton states - don't forget to specify one as the current state\"\"\"\n",
    "    on = State()\n",
    "    off = current = State()\n",
    "    \n",
    "    \"\"\"transitions and guards (as lambdas)\"\"\"\n",
    "    off_to_on = Transition(source=off, target=on, guard=(lambda self: self.electricity.value >= 100))\n",
    "    on_to_off = Transition(source=on, target=off, guard=(lambda self: self.electricity.value < 100))\n",
    "    \n",
    "    \"\"\"\n",
    "    update functions. They are related to a state, define the port to be updated and return the port's new value\n",
    "    Remember that updates need two parameters: self and dt.\n",
    "    \"\"\"\n",
    "    @update(state=on, target=light)\n",
    "    def set_light_on(self, dt=0):\n",
    "        return 800\n",
    "\n",
    "    @update(state=off, target=light)\n",
    "    def set_light_off(self, dt=0):\n",
    "        return 0"
   ]
  },
  {
   "cell_type": "markdown",
   "metadata": {},
   "source": [
    "## Plotting\n",
    "We use the *elk* module to create an interactive system representation \n",
    "(based on the [`mxGraph`](https://jgraph.github.io/mxgraph/) diagram library and the [`elkjs`](https://github.com/OpenKieler/elkjs) layout engine.)\n",
    "The layout and production of the HTML version takes a few seconds \n",
    "\n",
    "This interactive diagramming is continuously extended. The currently supported features are:\n",
    "\n",
    "- Move objects around if the automatic layout does not provide an sufficient result.\n",
    "- Select ports and states to see their outgoing arcs (blue) and incoming arcs (red).\n",
    "- Hover over transitions, influences and actions to display their name and short summary.\n",
    "- Double click on transitions, influences and actions you will see their source code.\n",
    "- There is a *hot corner* on the top left of each entity. You can double-click it to collapse the entity. This feature is useful for CREST diagrams with many entities. *Unfortunately a software issue prevents the expand/collapse icon not to be displayed. It still works though (notice your cursor changing to a pointer)*\n",
    "\n",
    " \n",
    "**GO AHEAD AND TRY IT**"
   ]
  },
  {
   "cell_type": "code",
   "execution_count": null,
   "metadata": {
    "scrolled": false
   },
   "outputs": [],
   "source": [
    "# import the plotting libraries that can visualise the CREST systems\n",
    "from crestdsl.ui import elk\n",
    "\n",
    "elk.plot(LightElement())"
   ]
  },
  {
   "cell_type": "markdown",
   "metadata": {},
   "source": [
    "### Alternative plotting\n",
    "There exists a fast, static plotter based on `graphviz` and `dot`.\n",
    "You can use the `dotter` module to plot a quick picture. BUT you *cannot* modify it or influence the output."
   ]
  },
  {
   "cell_type": "code",
   "execution_count": null,
   "metadata": {},
   "outputs": [],
   "source": [
    "# import the dotter\n",
    "from crestdsl.ui import dotter\n",
    "\n",
    "dotter.plot(LightElement())"
   ]
  },
  {
   "cell_type": "markdown",
   "metadata": {},
   "source": [
    "## Define another entity (without transitions)\n",
    "Note that this one does only have one state and no transitions."
   ]
  },
  {
   "cell_type": "code",
   "execution_count": null,
   "metadata": {
    "code_folding": []
   },
   "outputs": [],
   "source": [
    "class HeatElement(Entity):\n",
    "    \"\"\" Ports \"\"\"\n",
    "    electricity = Input(resource=Resources.electricity, value=0)\n",
    "    switch = Input(resource=Resources.switch, value=\"off\")  # the heatelement has its own switch\n",
    "    heat = Output(resource=Resources.celsius, value=0)      # and produces a celsius value (i.e. the temperature increase underneath the lamp)\n",
    "    \n",
    "    \"\"\" Automaton (States) \"\"\"\n",
    "    state = current = State() # the only state of this entity\n",
    "    \n",
    "    \"\"\"Update\"\"\"\n",
    "    @update(state=state, target=heat)\n",
    "    def heat_output(self, dt):\n",
    "        # When the lamp is on, then we convert electricity to temperature at a rate of 100Watt = 1Celsius\n",
    "        if self.switch.value == \"on\":\n",
    "            return self.electricity.value / 100\n",
    "        else:\n",
    "            return 0\n",
    "\n",
    "# show us what it looks like\n",
    "elk.plot(HeatElement())"
   ]
  },
  {
   "cell_type": "markdown",
   "metadata": {},
   "source": [
    "# An Adder Entity\n",
    "\n",
    "CREST does not specify a special connector type that defines what is happening for multiple incoming influence, etc. Instead standard entities are used to define add, minimum and maximum calculation which is then written to the actual target port using an influence.\n",
    "\n",
    "We call such entities *logical*, since they don't have a real-world counterpart."
   ]
  },
  {
   "cell_type": "code",
   "execution_count": null,
   "metadata": {
    "code_folding": [],
    "scrolled": true
   },
   "outputs": [],
   "source": [
    "# a logical entity (this one sums two values)\n",
    "class Adder(LogicalEntity):\n",
    "    heat_in = Input(resource=Resources.celsius, value=0)\n",
    "    room_temp_in = Input(resource=Resources.celsius, value=22)\n",
    "    temperature = Output(resource=Resources.celsius, value=22)\n",
    "    \n",
    "    state = current = State()\n",
    "    @update(state=state, target=temperature)\n",
    "    def add(self, dt):\n",
    "        return self.heat_in.value + self.room_temp_in.value\n",
    "    \n",
    "elk.plot(Adder())  # try adding the display option 'show_update_ports=True' and see what happens!"
   ]
  },
  {
   "cell_type": "markdown",
   "metadata": {},
   "source": [
    "# A more complex entity (with subentities)\n",
    "The GrowLamp is a standard entity just like the ones above, except...  \n",
    "... it defines subentities !!"
   ]
  },
  {
   "cell_type": "code",
   "execution_count": null,
   "metadata": {
    "code_folding": [],
    "scrolled": false
   },
   "outputs": [],
   "source": [
    "class GrowLamp(Entity):\n",
    "    \n",
    "    \"\"\" - - - - - - - PORTS - - - - - - - - - - \"\"\"\n",
    "    electricity = Input(resource=Resources.electricity, value=0)\n",
    "    switch = Input(resource=Resources.switch, value=\"off\")\n",
    "    heat_switch = Input(resource=Resources.switch, value=\"on\")\n",
    "    room_temperature = Input(resource=Resources.fahrenheit, value=71.6)\n",
    "    \n",
    "    light = Output(resource=Resources.light, value=3.1415*1000) # note that these are bogus values for now\n",
    "    temperature = Output(resource=Resources.celsius, value=4242424242) # yes, nonsense..., they are updated when simulated\n",
    "    \n",
    "    on_time = Local(resource=Resources.time, value=0)\n",
    "    on_count = Local(resource=Resources.counter, value=0)\n",
    "    \n",
    "    \"\"\" - - - - - - - SUBENTITIES - - - - - - - - - - \"\"\"\n",
    "    lightelement = LightElement()\n",
    "    heatelement = HeatElement()\n",
    "    adder = Adder()\n",
    "    \n",
    "    \n",
    "    \"\"\" - - - - - - - INFLUENCES - - - - - - - - - - \"\"\"\n",
    "    \"\"\"\n",
    "    Influences specify a source port and a target port. \n",
    "    They are always executed, independent of the automaton's state.\n",
    "    Since they are called directly with the source-port's value, a self-parameter is not necessary.\n",
    "    \"\"\"\n",
    "    @influence(source=room_temperature, target=adder.room_temp_in)\n",
    "    def celsius_to_fahrenheit(value):\n",
    "        return (value - 32) * 5 / 9\n",
    "    \n",
    "    # we can also define updates and influences with lambda functions... \n",
    "    heat_to_add = Influence(source=heatelement.heat, target=adder.heat_in, function=(lambda val: val))\n",
    "    \n",
    "    # if the lambda function doesn't do anything (like the one above) we can omit it entirely...\n",
    "    add_to_temp           = Influence(source=adder.temperature, target=temperature)\n",
    "    light_to_light        = Influence(source=lightelement.light, target=light)\n",
    "    heat_switch_influence = Influence(source=heat_switch, target=heatelement.switch)\n",
    "    \n",
    "    \n",
    "    \"\"\" - - - - - - - STATES & TRANSITIONS - - - - - - - - - - \"\"\"\n",
    "    on = State()\n",
    "    off = current = State()\n",
    "    error = State()\n",
    "    \n",
    "    off_to_on = Transition(source=off, target=on, guard=(lambda self: self.switch.value == \"on\" and self.electricity.value >= 100))\n",
    "    on_to_off = Transition(source=on, target=off, guard=(lambda self: self.switch.value == \"off\" or self.electricity.value < 100))\n",
    "    \n",
    "    # transition to error state if the lamp ran for more than 1000.5 time units\n",
    "    @transition(source=on, target=error)\n",
    "    def to_error(self):\n",
    "        \"\"\"More complex transitions can be defined as a function. We can use variables and calculations\"\"\"\n",
    "        timeout = self.on_time.value >= 1000.5\n",
    "        heat_is_on = self.heatelement.switch.value == \"on\"\n",
    "        return timeout and heat_is_on\n",
    "    \n",
    "    \"\"\" - - - - - - - UPDATES - - - - - - - - - - \"\"\"\n",
    "    # LAMP is OFF or ERROR\n",
    "    @update(state=[off, error], target=lightelement.electricity)\n",
    "    def update_light_elec_off(self, dt):\n",
    "        # no electricity\n",
    "        return 0\n",
    "\n",
    "    @update(state=[off, error], target=heatelement.electricity)\n",
    "    def update_heat_elec_off(self, dt):\n",
    "        # no electricity\n",
    "        return 0\n",
    "    \n",
    "    \n",
    "    \n",
    "    # LAMP is ON\n",
    "    @update(state=on, target=lightelement.electricity)\n",
    "    def update_light_elec_on(self, dt):\n",
    "        # the lightelement gets the first 100Watt\n",
    "        return 100\n",
    "    \n",
    "    @update(state=on, target=heatelement.electricity)\n",
    "    def update_heat_elec_on(self, dt):\n",
    "        # the heatelement gets the rest\n",
    "        return self.electricity.value - 100\n",
    "        \n",
    "    @update(state=on, target=on_time)\n",
    "    def update_time(self, dt):\n",
    "        # also update the on_time so we know whether we overheat\n",
    "        return self.on_time.value + dt\n",
    "        \n",
    "    \"\"\" - - - - - - - ACTIONS - - - - - - - - - - \"\"\"\n",
    "    # let's add an action that counts the number of times we switch to state \"on\"\n",
    "    @action(transition=off_to_on, target=on_count)\n",
    "    def count_switching_on(self):\n",
    "        \"\"\"\n",
    "        Actions are functions that are executed when the related transition is fired.\n",
    "        Note that actions do not have a dt.\n",
    "        \"\"\"\n",
    "        return self.on_count.value + 1\n",
    "\n",
    "# create an instance!\n",
    "elk.plot(GrowLamp())"
   ]
  }
 ],
 "metadata": {
  "kernelspec": {
   "display_name": "Python 3",
   "language": "python",
   "name": "python3"
  },
  "language_info": {
   "codemirror_mode": {
    "name": "ipython",
    "version": 3
   },
   "file_extension": ".py",
   "mimetype": "text/x-python",
   "name": "python",
   "nbconvert_exporter": "python",
   "pygments_lexer": "ipython3",
   "version": "3.6.7"
  },
  "toc": {
   "base_numbering": 1,
   "nav_menu": {},
   "number_sections": true,
   "sideBar": true,
   "skip_h1_title": false,
   "title_cell": "Table of Contents",
   "title_sidebar": "Contents",
   "toc_cell": false,
   "toc_position": {},
   "toc_section_display": true,
   "toc_window_display": false
  },
  "varInspector": {
   "cols": {
    "lenName": 16,
    "lenType": 16,
    "lenVar": 40
   },
   "kernels_config": {
    "python": {
     "delete_cmd_postfix": "",
     "delete_cmd_prefix": "del ",
     "library": "var_list.py",
     "varRefreshCmd": "print(var_dic_list())"
    },
    "r": {
     "delete_cmd_postfix": ") ",
     "delete_cmd_prefix": "rm(",
     "library": "var_list.r",
     "varRefreshCmd": "cat(var_dic_list()) "
    }
   },
   "types_to_exclude": [
    "module",
    "function",
    "builtin_function_or_method",
    "instance",
    "_Feature"
   ],
   "window_display": false
  }
 },
 "nbformat": 4,
 "nbformat_minor": 2
}
